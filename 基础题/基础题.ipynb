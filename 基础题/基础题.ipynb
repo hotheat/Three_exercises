{
 "cells": [
  {
   "cell_type": "code",
   "execution_count": 1,
   "metadata": {
    "ExecuteTime": {
     "end_time": "2019-02-13T04:41:26.554754Z",
     "start_time": "2019-02-13T04:41:23.330199Z"
    }
   },
   "outputs": [],
   "source": [
    "import pandas as pd"
   ]
  },
  {
   "cell_type": "code",
   "execution_count": 8,
   "metadata": {
    "ExecuteTime": {
     "end_time": "2019-02-13T04:44:53.843634Z",
     "start_time": "2019-02-13T04:44:53.828010Z"
    }
   },
   "outputs": [],
   "source": [
    "data = pd.read_csv('data.csv', encoding='gbk', sep='\\t')"
   ]
  },
  {
   "cell_type": "code",
   "execution_count": 10,
   "metadata": {
    "ExecuteTime": {
     "end_time": "2019-02-13T04:45:13.326463Z",
     "start_time": "2019-02-13T04:45:13.310847Z"
    }
   },
   "outputs": [],
   "source": [
    "data = data.set_index('姓名')"
   ]
  },
  {
   "cell_type": "code",
   "execution_count": 11,
   "metadata": {
    "ExecuteTime": {
     "end_time": "2019-02-13T04:45:26.938076Z",
     "start_time": "2019-02-13T04:45:26.906804Z"
    }
   },
   "outputs": [
    {
     "name": "stdout",
     "output_type": "stream",
     "text": [
      "<class 'pandas.core.frame.DataFrame'>\n",
      "Index: 6 entries, 小乔 to 大乔\n",
      "Data columns (total 4 columns):\n",
      "身高    6 non-null int64\n",
      "胸围    6 non-null int64\n",
      "腰围    5 non-null float64\n",
      "臀围    6 non-null int64\n",
      "dtypes: float64(1), int64(3)\n",
      "memory usage: 240.0+ bytes\n"
     ]
    }
   ],
   "source": [
    "data.info()"
   ]
  },
  {
   "cell_type": "code",
   "execution_count": 12,
   "metadata": {
    "ExecuteTime": {
     "end_time": "2019-02-13T04:46:07.310168Z",
     "start_time": "2019-02-13T04:46:07.294549Z"
    }
   },
   "outputs": [],
   "source": [
    "data['腰围'].fillna(data['腰围'].mean(), inplace=True)"
   ]
  },
  {
   "cell_type": "code",
   "execution_count": 14,
   "metadata": {
    "ExecuteTime": {
     "end_time": "2019-02-13T04:46:20.935875Z",
     "start_time": "2019-02-13T04:46:20.904633Z"
    }
   },
   "outputs": [],
   "source": [
    "data.drop_duplicates(inplace=True)"
   ]
  },
  {
   "cell_type": "code",
   "execution_count": 17,
   "metadata": {
    "ExecuteTime": {
     "end_time": "2019-02-13T04:48:59.348151Z",
     "start_time": "2019-02-13T04:48:59.154543Z"
    }
   },
   "outputs": [],
   "source": [
    "data['三围指数'] = (data['胸围'] + data['腰围'] + data['臀围']) / data['身高'] * 100"
   ]
  },
  {
   "cell_type": "code",
   "execution_count": 18,
   "metadata": {
    "ExecuteTime": {
     "end_time": "2019-02-13T04:49:05.067164Z",
     "start_time": "2019-02-13T04:49:05.055164Z"
    }
   },
   "outputs": [
    {
     "data": {
      "text/html": [
       "<div>\n",
       "<style scoped>\n",
       "    .dataframe tbody tr th:only-of-type {\n",
       "        vertical-align: middle;\n",
       "    }\n",
       "\n",
       "    .dataframe tbody tr th {\n",
       "        vertical-align: top;\n",
       "    }\n",
       "\n",
       "    .dataframe thead th {\n",
       "        text-align: right;\n",
       "    }\n",
       "</style>\n",
       "<table border=\"1\" class=\"dataframe\">\n",
       "  <thead>\n",
       "    <tr style=\"text-align: right;\">\n",
       "      <th></th>\n",
       "      <th>身高</th>\n",
       "      <th>胸围</th>\n",
       "      <th>腰围</th>\n",
       "      <th>臀围</th>\n",
       "      <th>三围指数</th>\n",
       "    </tr>\n",
       "    <tr>\n",
       "      <th>姓名</th>\n",
       "      <th></th>\n",
       "      <th></th>\n",
       "      <th></th>\n",
       "      <th></th>\n",
       "      <th></th>\n",
       "    </tr>\n",
       "  </thead>\n",
       "  <tbody>\n",
       "    <tr>\n",
       "      <th>小乔</th>\n",
       "      <td>158</td>\n",
       "      <td>80</td>\n",
       "      <td>65.0</td>\n",
       "      <td>83</td>\n",
       "      <td>144.303797</td>\n",
       "    </tr>\n",
       "    <tr>\n",
       "      <th>貂蝉</th>\n",
       "      <td>165</td>\n",
       "      <td>85</td>\n",
       "      <td>70.0</td>\n",
       "      <td>90</td>\n",
       "      <td>148.484848</td>\n",
       "    </tr>\n",
       "    <tr>\n",
       "      <th>虞姬</th>\n",
       "      <td>167</td>\n",
       "      <td>88</td>\n",
       "      <td>68.6</td>\n",
       "      <td>92</td>\n",
       "      <td>148.862275</td>\n",
       "    </tr>\n",
       "    <tr>\n",
       "      <th>甄姬</th>\n",
       "      <td>164</td>\n",
       "      <td>86</td>\n",
       "      <td>72.0</td>\n",
       "      <td>88</td>\n",
       "      <td>150.000000</td>\n",
       "    </tr>\n",
       "    <tr>\n",
       "      <th>大乔</th>\n",
       "      <td>163</td>\n",
       "      <td>83</td>\n",
       "      <td>68.0</td>\n",
       "      <td>88</td>\n",
       "      <td>146.625767</td>\n",
       "    </tr>\n",
       "  </tbody>\n",
       "</table>\n",
       "</div>"
      ],
      "text/plain": [
       "     身高  胸围    腰围  臀围        三围指数\n",
       "姓名                               \n",
       "小乔  158  80  65.0  83  144.303797\n",
       "貂蝉  165  85  70.0  90  148.484848\n",
       "虞姬  167  88  68.6  92  148.862275\n",
       "甄姬  164  86  72.0  88  150.000000\n",
       "大乔  163  83  68.0  88  146.625767"
      ]
     },
     "execution_count": 18,
     "metadata": {},
     "output_type": "execute_result"
    }
   ],
   "source": [
    "data"
   ]
  },
  {
   "cell_type": "code",
   "execution_count": null,
   "metadata": {},
   "outputs": [],
   "source": []
  }
 ],
 "metadata": {
  "kernelspec": {
   "display_name": "Python 3",
   "language": "python",
   "name": "python3"
  },
  "language_info": {
   "codemirror_mode": {
    "name": "ipython",
    "version": 3
   },
   "file_extension": ".py",
   "mimetype": "text/x-python",
   "name": "python",
   "nbconvert_exporter": "python",
   "pygments_lexer": "ipython3",
   "version": "3.6.5"
  },
  "toc": {
   "base_numbering": 1,
   "nav_menu": {},
   "number_sections": true,
   "sideBar": true,
   "skip_h1_title": false,
   "title_cell": "Table of Contents",
   "title_sidebar": "Contents",
   "toc_cell": false,
   "toc_position": {},
   "toc_section_display": true,
   "toc_window_display": false
  }
 },
 "nbformat": 4,
 "nbformat_minor": 2
}
