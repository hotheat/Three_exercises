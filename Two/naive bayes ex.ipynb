{
 "cells": [
  {
   "cell_type": "code",
   "execution_count": 1,
   "metadata": {
    "ExecuteTime": {
     "end_time": "2019-02-13T14:44:00.648940Z",
     "start_time": "2019-02-13T14:43:59.405002Z"
    }
   },
   "outputs": [],
   "source": [
    "import pandas as pd\n",
    "import os\n",
    "import jieba\n",
    "from sklearn.feature_extraction.text import TfidfVectorizer\n",
    "from sklearn.naive_bayes import MultinomialNB\n",
    "from sklearn import metrics\n",
    "from sklearn.preprocessing import LabelEncoder"
   ]
  },
  {
   "cell_type": "code",
   "execution_count": 2,
   "metadata": {
    "ExecuteTime": {
     "end_time": "2019-02-13T14:44:00.660825Z",
     "start_time": "2019-02-13T14:44:00.653660Z"
    }
   },
   "outputs": [],
   "source": [
    "def read_file(file, encode='utf-8'):\n",
    "    try:\n",
    "        with open(file, encoding=encode) as f:\n",
    "            return f.read()\n",
    "    except Exception as e:\n",
    "        print(file)\n",
    "        print(e)"
   ]
  },
  {
   "cell_type": "code",
   "execution_count": 3,
   "metadata": {
    "ExecuteTime": {
     "end_time": "2019-02-13T14:44:00.684470Z",
     "start_time": "2019-02-13T14:44:00.665399Z"
    }
   },
   "outputs": [],
   "source": [
    "def get_data(root):\n",
    "    datas = []\n",
    "    cats = []\n",
    "    for r, dirs, files in os.walk(root):\n",
    "        for f in files:\n",
    "            if f.endswith('.txt'):\n",
    "                file = os.path.join(r, f)\n",
    "                content = read_file(file, 'gb18030')\n",
    "                catog = os.path.split(r)[-1]\n",
    "                datas.append(content)\n",
    "                cats.append(catog)\n",
    "    \n",
    "    return pd.DataFrame({'data': datas, 'class': cats})"
   ]
  },
  {
   "cell_type": "code",
   "execution_count": 4,
   "metadata": {
    "ExecuteTime": {
     "end_time": "2019-02-13T14:44:00.704562Z",
     "start_time": "2019-02-13T14:44:00.688511Z"
    }
   },
   "outputs": [],
   "source": [
    "train_path = r'C:\\Data\\Study\\Data Analysis\\JiKe_ChenYang\\code\\21朴素贝叶斯\\text_classification\\text classification\\train'\n",
    "test_path = r'C:\\Data\\Study\\Data Analysis\\JiKe_ChenYang\\code\\21朴素贝叶斯\\text_classification\\text classification\\test'\n",
    "stopw_path = r'C:\\Data\\Study\\Data Analysis\\JiKe_ChenYang\\code\\21朴素贝叶斯\\text_classification\\text classification\\stop\\stopword.txt'"
   ]
  },
  {
   "cell_type": "code",
   "execution_count": 5,
   "metadata": {
    "ExecuteTime": {
     "end_time": "2019-02-13T14:44:38.148088Z",
     "start_time": "2019-02-13T14:44:00.708858Z"
    }
   },
   "outputs": [],
   "source": [
    "train = get_data(train_path)\n",
    "test = get_data(test_path)"
   ]
  },
  {
   "cell_type": "code",
   "execution_count": 6,
   "metadata": {
    "ExecuteTime": {
     "end_time": "2019-02-13T14:44:38.453570Z",
     "start_time": "2019-02-13T14:44:38.154109Z"
    }
   },
   "outputs": [
    {
     "data": {
      "text/html": [
       "<div>\n",
       "<style scoped>\n",
       "    .dataframe tbody tr th:only-of-type {\n",
       "        vertical-align: middle;\n",
       "    }\n",
       "\n",
       "    .dataframe tbody tr th {\n",
       "        vertical-align: top;\n",
       "    }\n",
       "\n",
       "    .dataframe thead th {\n",
       "        text-align: right;\n",
       "    }\n",
       "</style>\n",
       "<table border=\"1\" class=\"dataframe\">\n",
       "  <thead>\n",
       "    <tr style=\"text-align: right;\">\n",
       "      <th></th>\n",
       "      <th>data</th>\n",
       "      <th>class</th>\n",
       "    </tr>\n",
       "  </thead>\n",
       "  <tbody>\n",
       "    <tr>\n",
       "      <th>0</th>\n",
       "      <td>球场禁用招数“少先队员之惩戒”冠</td>\n",
       "      <td>体育</td>\n",
       "    </tr>\n",
       "    <tr>\n",
       "      <th>1</th>\n",
       "      <td>可以直接到编辑部买，地址，北京体育馆路8号，中国体育报业总社院内，后楼51700：羽毛球杂志...</td>\n",
       "      <td>体育</td>\n",
       "    </tr>\n",
       "    <tr>\n",
       "      <th>2</th>\n",
       "      <td>直播贴阿内尔卡正式加盟申花，最现场连线申花新闻官带来第一手消息，上海男篮2分惜败惨遭4连败，...</td>\n",
       "      <td>体育</td>\n",
       "    </tr>\n",
       "    <tr>\n",
       "      <th>3</th>\n",
       "      <td>组图：金妍儿黑丝亮相热心公益 OL套装透成熟 http:url.cn/1bNQDP  (分享...</td>\n",
       "      <td>体育</td>\n",
       "    </tr>\n",
       "    <tr>\n",
       "      <th>4</th>\n",
       "      <td>北京23分落后末节大反扑 惜败佛山终结13连胜  http:url.cn/2nGdrq  (...</td>\n",
       "      <td>体育</td>\n",
       "    </tr>\n",
       "  </tbody>\n",
       "</table>\n",
       "</div>"
      ],
      "text/plain": [
       "                                                data class\n",
       "0                                   球场禁用招数“少先队员之惩戒”冠    体育\n",
       "1  可以直接到编辑部买，地址，北京体育馆路8号，中国体育报业总社院内，后楼51700：羽毛球杂志...    体育\n",
       "2  直播贴阿内尔卡正式加盟申花，最现场连线申花新闻官带来第一手消息，上海男篮2分惜败惨遭4连败，...    体育\n",
       "3  组图：金妍儿黑丝亮相热心公益 OL套装透成熟 http:url.cn/1bNQDP  (分享...    体育\n",
       "4  北京23分落后末节大反扑 惜败佛山终结13连胜  http:url.cn/2nGdrq  (...    体育"
      ]
     },
     "execution_count": 6,
     "metadata": {},
     "output_type": "execute_result"
    }
   ],
   "source": [
    "train.head()"
   ]
  },
  {
   "cell_type": "code",
   "execution_count": 7,
   "metadata": {
    "ExecuteTime": {
     "end_time": "2019-02-13T14:44:38.474025Z",
     "start_time": "2019-02-13T14:44:38.461373Z"
    }
   },
   "outputs": [],
   "source": [
    "train_test = pd.concat([train, test])"
   ]
  },
  {
   "cell_type": "code",
   "execution_count": 8,
   "metadata": {
    "ExecuteTime": {
     "end_time": "2019-02-13T14:44:38.554322Z",
     "start_time": "2019-02-13T14:44:38.483891Z"
    }
   },
   "outputs": [],
   "source": [
    "stop_words = [i.strip() for i in read_file(stopw_path).split('\\n')]"
   ]
  },
  {
   "cell_type": "code",
   "execution_count": 9,
   "metadata": {
    "ExecuteTime": {
     "end_time": "2019-02-13T14:44:42.349965Z",
     "start_time": "2019-02-13T14:44:38.563932Z"
    }
   },
   "outputs": [
    {
     "name": "stderr",
     "output_type": "stream",
     "text": [
      "Building prefix dict from the default dictionary ...\n",
      "Loading model from cache C:\\Users\\hotheat\\AppData\\Local\\Temp\\jieba.cache\n",
      "Loading model cost 1.294 seconds.\n",
      "Prefix dict has been built succesfully.\n"
     ]
    }
   ],
   "source": [
    "train_test['split_word'] = train_test['data'].apply(lambda x: ' '.join(jieba.cut(x)))"
   ]
  },
  {
   "cell_type": "code",
   "execution_count": 10,
   "metadata": {
    "ExecuteTime": {
     "end_time": "2019-02-13T14:44:42.664117Z",
     "start_time": "2019-02-13T14:44:42.353591Z"
    }
   },
   "outputs": [],
   "source": [
    "tf = TfidfVectorizer(stop_words=stop_words, max_df=0.5)\n",
    "features = tf.fit_transform(train_test['split_word'])"
   ]
  },
  {
   "cell_type": "code",
   "execution_count": 11,
   "metadata": {
    "ExecuteTime": {
     "end_time": "2019-02-13T14:44:42.672365Z",
     "start_time": "2019-02-13T14:44:42.666112Z"
    }
   },
   "outputs": [],
   "source": [
    "# from sklearn.feature_extraction.text import CountVectorizer\n",
    "\n",
    "# tfidf = CountVectorizer(stop_words=stop_words, max_features=300, max_df=0.5)\n",
    "# features = tfidf.fit_transform(train_test[\"split_word\"])"
   ]
  },
  {
   "cell_type": "code",
   "execution_count": 12,
   "metadata": {
    "ExecuteTime": {
     "end_time": "2019-02-13T14:44:42.688125Z",
     "start_time": "2019-02-13T14:44:42.674544Z"
    }
   },
   "outputs": [],
   "source": [
    "lbl = LabelEncoder()\n",
    "train_test['class'] = lbl.fit_transform(train_test['class'])"
   ]
  },
  {
   "cell_type": "code",
   "execution_count": 13,
   "metadata": {
    "ExecuteTime": {
     "end_time": "2019-02-13T14:44:42.705269Z",
     "start_time": "2019-02-13T14:44:42.690127Z"
    }
   },
   "outputs": [],
   "source": [
    "train_features = features[:train.shape[0], :]\n",
    "test_features = features[-test.shape[0]:, :]\n",
    "y_train = train['class']\n",
    "y_test = test['class']"
   ]
  },
  {
   "cell_type": "code",
   "execution_count": 14,
   "metadata": {
    "ExecuteTime": {
     "end_time": "2019-02-13T14:44:42.717880Z",
     "start_time": "2019-02-13T14:44:42.708270Z"
    }
   },
   "outputs": [
    {
     "data": {
      "text/plain": [
       "((3306, 23734), (3306, 2))"
      ]
     },
     "execution_count": 14,
     "metadata": {},
     "output_type": "execute_result"
    }
   ],
   "source": [
    "train_features.shape, train.shape"
   ]
  },
  {
   "cell_type": "code",
   "execution_count": 15,
   "metadata": {
    "ExecuteTime": {
     "end_time": "2019-02-13T14:44:42.749374Z",
     "start_time": "2019-02-13T14:44:42.720974Z"
    }
   },
   "outputs": [],
   "source": [
    "clf = MultinomialNB(alpha=0.001).fit(train_features, y_train)"
   ]
  },
  {
   "cell_type": "code",
   "execution_count": 16,
   "metadata": {
    "ExecuteTime": {
     "end_time": "2019-02-13T14:44:42.761050Z",
     "start_time": "2019-02-13T14:44:42.752823Z"
    }
   },
   "outputs": [],
   "source": [
    "y_test_pred = clf.predict(test_features)"
   ]
  },
  {
   "cell_type": "code",
   "execution_count": 17,
   "metadata": {
    "ExecuteTime": {
     "end_time": "2019-02-13T14:44:42.783507Z",
     "start_time": "2019-02-13T14:44:42.764269Z"
    }
   },
   "outputs": [
    {
     "name": "stdout",
     "output_type": "stream",
     "text": [
      "0.915\n"
     ]
    }
   ],
   "source": [
    "print(metrics.accuracy_score(y_test_pred, y_test))"
   ]
  },
  {
   "cell_type": "code",
   "execution_count": null,
   "metadata": {},
   "outputs": [],
   "source": []
  }
 ],
 "metadata": {
  "kernelspec": {
   "display_name": "Python 3",
   "language": "python",
   "name": "python3"
  },
  "language_info": {
   "codemirror_mode": {
    "name": "ipython",
    "version": 3
   },
   "file_extension": ".py",
   "mimetype": "text/x-python",
   "name": "python",
   "nbconvert_exporter": "python",
   "pygments_lexer": "ipython3",
   "version": "3.6.5"
  },
  "toc": {
   "base_numbering": 1,
   "nav_menu": {},
   "number_sections": true,
   "sideBar": true,
   "skip_h1_title": false,
   "title_cell": "Table of Contents",
   "title_sidebar": "Contents",
   "toc_cell": false,
   "toc_position": {},
   "toc_section_display": true,
   "toc_window_display": false
  }
 },
 "nbformat": 4,
 "nbformat_minor": 2
}
